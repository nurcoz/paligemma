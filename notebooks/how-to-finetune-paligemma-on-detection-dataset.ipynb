{
  "cells": [
    {
      "cell_type": "markdown",
      "source": [
        "##Stock Market Direction Prediction\n",
        "\n",
        "\"Predicting the Direction Movement of Financial Time Series Using Artificial Neural Network and Support Vector Machine\"\n",
        "https://onlinelibrary.wiley.com/doi/10.1155/2021/2906463"
      ],
      "metadata": {
        "id": "AqvuI-uApGNi"
      }
    },
    {
      "cell_type": "code",
      "source": [
        "# =======================================================================================================\n",
        "# Kütüphaneler\n",
        "# =======================================================================================================\n",
        "!pip install yfinance pandas numpy scikit-learn matplotlib seaborn -q\n",
        "print(\"Yüklendi\")\n",
        "\n",
        "import numpy as np\n",
        "import pandas as pd\n",
        "import matplotlib.pyplot as plt\n",
        "import seaborn as sns\n",
        "import yfinance as yf\n",
        "from datetime import datetime\n",
        "from sklearn.model_selection import train_test_split, GridSearchCV\n",
        "from sklearn.preprocessing import MinMaxScaler\n",
        "from sklearn.svm import SVC\n",
        "from sklearn.metrics import accuracy_score, precision_score, recall_score, f1_score, confusion_matrix\n",
        "from sklearn.neural_network import MLPClassifier\n",
        "from datetime import datetime\n",
        "import yfinance as yf\n",
        "import warnings\n",
        "warnings.filterwarnings('ignore')\n",
        "\n",
        "# Görselleştirme\n",
        "plt.style.use('seaborn-v0_8-darkgrid')\n",
        "sns.set_palette(\"husl\")\n",
        "%matplotlib inline\n",
        "\n",
        "print(\"Yüklendi\")\n"
      ],
      "metadata": {
        "id": "7oKvikSHubPQ",
        "outputId": "11e6357d-9983-4d1e-8f86-952c8bcb1af1",
        "colab": {
          "base_uri": "https://localhost:8080/"
        }
      },
      "execution_count": 7,
      "outputs": [
        {
          "output_type": "stream",
          "name": "stdout",
          "text": [
            "Yüklendi\n",
            "Yüklendi\n"
          ]
        }
      ]
    },
    {
      "cell_type": "code",
      "source": [
        "# =======================================================================================================\n",
        "# Veri ÇEkme (Yahoo Finance)\n",
        "# =======================================================================================================\n",
        "\n",
        "class DataFetcher"
      ],
      "metadata": {
        "id": "5RMxs1M8pGBS"
      },
      "execution_count": null,
      "outputs": []
    }
  ],
  "metadata": {
    "accelerator": "GPU",
    "colab": {
      "gpuType": "T4",
      "provenance": []
    },
    "kernelspec": {
      "display_name": "Python 3",
      "name": "python3"
    },
    "language_info": {
      "name": "python"
    }
  },
  "nbformat": 4,
  "nbformat_minor": 0
}